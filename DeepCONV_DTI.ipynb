{
  "nbformat": 4,
  "nbformat_minor": 0,
  "metadata": {
    "colab": {
      "name": "DeepCONV-DTI.ipynb",
      "provenance": [],
      "collapsed_sections": [
        "92gRpy3eBDYS",
        "Hy_SuHhI35zq",
        "UfiwW0a21giG",
        "CQyHqvzT40MC",
        "b8epDzR_7LUe",
        "CfS7EaL2gAUG",
        "S3FlqKdn5b-L",
        "aWs2p-lG5ebW",
        "1w4MjmUC9ktu"
      ]
    },
    "kernelspec": {
      "name": "python3",
      "display_name": "Python 3"
    },
    "accelerator": "GPU"
  },
  "cells": [
    {
      "cell_type": "markdown",
      "metadata": {
        "id": "92gRpy3eBDYS"
      },
      "source": [
        "# Training Toy Dataset"
      ]
    },
    {
      "cell_type": "code",
      "metadata": {
        "colab": {
          "base_uri": "https://localhost:8080/"
        },
        "id": "aBfC7794wbdg",
        "outputId": "b426d214-fd44-42b1-9d89-34d0a4a82a57"
      },
      "source": [
        "!git clone https://github.com/GIST-CSBL/DeepConv-DTI"
      ],
      "execution_count": null,
      "outputs": [
        {
          "output_type": "stream",
          "text": [
            "Cloning into 'DeepConv-DTI'...\n",
            "remote: Enumerating objects: 97, done.\u001b[K\n",
            "remote: Total 97 (delta 0), reused 0 (delta 0), pack-reused 97\u001b[K\n",
            "Unpacking objects: 100% (97/97), done.\n"
          ],
          "name": "stdout"
        }
      ]
    },
    {
      "cell_type": "code",
      "metadata": {
        "colab": {
          "base_uri": "https://localhost:8080/"
        },
        "id": "qhtXb0xrRhYE",
        "outputId": "7ebc4641-7dc8-41dc-f45d-0d7ed90d6d07"
      },
      "source": [
        "%tensorflow_version 2.x\n",
        "import tensorflow as tf\n",
        "import timeit\n",
        "\n",
        "device_name = tf.test.gpu_device_name()\n",
        "if device_name != '/device:GPU:0':\n",
        "  print(\n",
        "      '\\n\\nThis error most likely means that this notebook is not '\n",
        "      'configured to use a GPU.  Change this in Notebook Settings via the '\n",
        "      'command palette (cmd/ctrl-shift-P) or the Edit menu.\\n\\n')\n",
        "  raise SystemError('GPU device not found')\n",
        "\n",
        "def cpu():\n",
        "  with tf.device('/cpu:0'):\n",
        "    random_image_cpu = tf.random.normal((100, 100, 100, 3))\n",
        "    net_cpu = tf.keras.layers.Conv2D(32, 7)(random_image_cpu)\n",
        "    return tf.math.reduce_sum(net_cpu)\n",
        "\n",
        "def gpu():\n",
        "  with tf.device('/device:GPU:0'):\n",
        "    random_image_gpu = tf.random.normal((100, 100, 100, 3))\n",
        "    net_gpu = tf.keras.layers.Conv2D(32, 7)(random_image_gpu)\n",
        "    return tf.math.reduce_sum(net_gpu)\n",
        "  \n",
        "# We run each op once to warm up; see: https://stackoverflow.com/a/45067900\n",
        "cpu()\n",
        "gpu()\n",
        "\n",
        "# Run the op several times.\n",
        "print('Time (s) to convolve 32x7x7x3 filter over random 100x100x100x3 images '\n",
        "      '(batch x height x width x channel). Sum of ten runs.')\n",
        "print('CPU (s):')\n",
        "cpu_time = timeit.timeit('cpu()', number=10, setup=\"from __main__ import cpu\")\n",
        "print(cpu_time)\n",
        "print('GPU (s):')\n",
        "gpu_time = timeit.timeit('gpu()', number=10, setup=\"from __main__ import gpu\")\n",
        "print(gpu_time)\n",
        "print('GPU speedup over CPU: {}x'.format(int(cpu_time/gpu_time)))"
      ],
      "execution_count": null,
      "outputs": [
        {
          "output_type": "stream",
          "text": [
            "Time (s) to convolve 32x7x7x3 filter over random 100x100x100x3 images (batch x height x width x channel). Sum of ten runs.\n",
            "CPU (s):\n",
            "3.2399101599999938\n",
            "GPU (s):\n",
            "0.03953037900001277\n",
            "GPU speedup over CPU: 81x\n"
          ],
          "name": "stdout"
        }
      ]
    },
    {
      "cell_type": "code",
      "metadata": {
        "id": "P6eiQUd5tl7d"
      },
      "source": [
        "import pandas as pd"
      ],
      "execution_count": null,
      "outputs": []
    },
    {
      "cell_type": "code",
      "metadata": {
        "colab": {
          "base_uri": "https://localhost:8080/",
          "height": 326
        },
        "id": "CXumB5QG49wb",
        "outputId": "11c6c05d-21c2-40c3-87f2-d7583b862f11"
      },
      "source": [
        "traning_comp = pd.read_csv(\"/content/DeepConv-DTI/toy_examples/training_dataset/training_compound.csv\")\n",
        "traning_comp.head()"
      ],
      "execution_count": null,
      "outputs": [
        {
          "output_type": "execute_result",
          "data": {
            "text/html": [
              "<div>\n",
              "<style scoped>\n",
              "    .dataframe tbody tr th:only-of-type {\n",
              "        vertical-align: middle;\n",
              "    }\n",
              "\n",
              "    .dataframe tbody tr th {\n",
              "        vertical-align: top;\n",
              "    }\n",
              "\n",
              "    .dataframe thead th {\n",
              "        text-align: right;\n",
              "    }\n",
              "</style>\n",
              "<table border=\"1\" class=\"dataframe\">\n",
              "  <thead>\n",
              "    <tr style=\"text-align: right;\">\n",
              "      <th></th>\n",
              "      <th>Unnamed: 0</th>\n",
              "      <th>Compound_ID</th>\n",
              "      <th>SMILES</th>\n",
              "      <th>InChI</th>\n",
              "      <th>Drugbank</th>\n",
              "      <th>IUPHAR</th>\n",
              "      <th>KEGG</th>\n",
              "      <th>morgan_fp_r2</th>\n",
              "      <th>morgan_fp_r3</th>\n",
              "      <th>morgan_fp_r1</th>\n",
              "      <th>Mol2Vec</th>\n",
              "      <th>PubChem_fingerprint</th>\n",
              "    </tr>\n",
              "  </thead>\n",
              "  <tbody>\n",
              "    <tr>\n",
              "      <th>0</th>\n",
              "      <td>62</td>\n",
              "      <td>DRUG00063</td>\n",
              "      <td>NC1=NC=NC2=C1N=CN2[C@@H]1O[C@H](COP(O)(=O)OP(O...</td>\n",
              "      <td>InChI=1S/C10H16N5O13P3/c11-8-5-9(13-2-12-8)15(...</td>\n",
              "      <td>True</td>\n",
              "      <td>True</td>\n",
              "      <td>True</td>\n",
              "      <td>0\\t0\\t0\\t0\\t0\\t0\\t0\\t0\\t0\\t0\\t0\\t0\\t0\\t0\\t0\\t0...</td>\n",
              "      <td>0\\t0\\t0\\t0\\t0\\t0\\t0\\t0\\t0\\t0\\t0\\t0\\t0\\t0\\t0\\t0...</td>\n",
              "      <td>0\\t0\\t0\\t0\\t0\\t0\\t0\\t0\\t0\\t0\\t0\\t0\\t0\\t0\\t0\\t0...</td>\n",
              "      <td>7.884823\\t-8.122994\\t-5.77131\\t18.334135\\t1.02...</td>\n",
              "      <td>1.0\\t1.0\\t1.0\\t0.0\\t0.0\\t0.0\\t0.0\\t0.0\\t0.0\\t1...</td>\n",
              "    </tr>\n",
              "    <tr>\n",
              "      <th>1</th>\n",
              "      <td>90</td>\n",
              "      <td>DRUG00091</td>\n",
              "      <td>CN1C=NC2=C1C(=O)N(C)C(=O)N2C</td>\n",
              "      <td>InChI=1S/C8H10N4O2/c1-10-4-9-6-5(10)7(13)12(3)...</td>\n",
              "      <td>True</td>\n",
              "      <td>True</td>\n",
              "      <td>True</td>\n",
              "      <td>0\\t0\\t0\\t0\\t0\\t0\\t0\\t0\\t0\\t0\\t0\\t0\\t0\\t0\\t0\\t0...</td>\n",
              "      <td>0\\t0\\t0\\t0\\t0\\t0\\t0\\t0\\t0\\t0\\t0\\t0\\t0\\t0\\t0\\t0...</td>\n",
              "      <td>0\\t0\\t0\\t0\\t0\\t0\\t0\\t0\\t0\\t0\\t0\\t0\\t0\\t0\\t0\\t0...</td>\n",
              "      <td>3.7801247000000004\\t-1.3690111999999999\\t-2.34...</td>\n",
              "      <td>1.0\\t1.0\\t0.0\\t0.0\\t0.0\\t0.0\\t0.0\\t0.0\\t0.0\\t1...</td>\n",
              "    </tr>\n",
              "    <tr>\n",
              "      <th>2</th>\n",
              "      <td>1981</td>\n",
              "      <td>DRUG01982</td>\n",
              "      <td>O[C@@H]1[C@H](O)[C@@H](OP(O)(O)=O)[C@H](OP(O)(...</td>\n",
              "      <td>InChI=1S/C6H15O15P3/c7-1-2(8)5(20-23(13,14)15)...</td>\n",
              "      <td>True</td>\n",
              "      <td>True</td>\n",
              "      <td>False</td>\n",
              "      <td>0\\t0\\t0\\t0\\t0\\t0\\t0\\t0\\t0\\t0\\t0\\t0\\t0\\t0\\t0\\t0...</td>\n",
              "      <td>0\\t0\\t0\\t0\\t0\\t0\\t0\\t0\\t0\\t0\\t0\\t0\\t0\\t0\\t0\\t0...</td>\n",
              "      <td>0\\t0\\t0\\t0\\t0\\t0\\t0\\t0\\t0\\t0\\t0\\t0\\t0\\t0\\t0\\t0...</td>\n",
              "      <td>4.0659432\\t-4.6435547\\t-3.5455644\\t13.78389\\t2...</td>\n",
              "      <td>1.0\\t1.0\\t0.0\\t0.0\\t0.0\\t0.0\\t0.0\\t0.0\\t0.0\\t1...</td>\n",
              "    </tr>\n",
              "    <tr>\n",
              "      <th>3</th>\n",
              "      <td>4702</td>\n",
              "      <td>DRUG04703</td>\n",
              "      <td>OCC(O)CO</td>\n",
              "      <td>InChI=1S/C3H8O3/c4-1-3(6)2-5/h3-6H,1-2H2</td>\n",
              "      <td>True</td>\n",
              "      <td>True</td>\n",
              "      <td>False</td>\n",
              "      <td>0\\t1\\t0\\t0\\t0\\t0\\t0\\t0\\t0\\t0\\t0\\t0\\t0\\t0\\t0\\t0...</td>\n",
              "      <td>0\\t1\\t0\\t0\\t0\\t0\\t0\\t0\\t0\\t0\\t0\\t0\\t0\\t0\\t0\\t0...</td>\n",
              "      <td>0\\t1\\t0\\t0\\t0\\t0\\t0\\t0\\t0\\t0\\t0\\t0\\t0\\t0\\t0\\t0...</td>\n",
              "      <td>1.2004018\\t0.16939774\\t0.16100265\\t-1.1320121\\...</td>\n",
              "      <td>1.0\\t1.0\\t0.0\\t0.0\\t0.0\\t0.0\\t0.0\\t0.0\\t0.0\\t1...</td>\n",
              "    </tr>\n",
              "    <tr>\n",
              "      <th>4</th>\n",
              "      <td>5230</td>\n",
              "      <td>DRUG05231</td>\n",
              "      <td>Clc1c(Cl)cccc1c1nnnn1Cc1cccnc1</td>\n",
              "      <td>InChI=1S/C13H9Cl2N5/c14-11-5-1-4-10(12(11)15)1...</td>\n",
              "      <td>False</td>\n",
              "      <td>True</td>\n",
              "      <td>False</td>\n",
              "      <td>0\\t0\\t0\\t0\\t0\\t0\\t0\\t0\\t0\\t0\\t0\\t0\\t0\\t0\\t0\\t0...</td>\n",
              "      <td>0\\t0\\t0\\t0\\t0\\t0\\t0\\t0\\t0\\t0\\t0\\t0\\t0\\t0\\t0\\t0...</td>\n",
              "      <td>0\\t0\\t0\\t0\\t0\\t0\\t0\\t0\\t0\\t0\\t0\\t0\\t0\\t0\\t0\\t0...</td>\n",
              "      <td>2.4320082999999997\\t-3.9578580000000003\\t-2.03...</td>\n",
              "      <td>1.0\\t1.0\\t0.0\\t0.0\\t0.0\\t0.0\\t0.0\\t0.0\\t0.0\\t1...</td>\n",
              "    </tr>\n",
              "  </tbody>\n",
              "</table>\n",
              "</div>"
            ],
            "text/plain": [
              "   Unnamed: 0  ...                                PubChem_fingerprint\n",
              "0          62  ...  1.0\\t1.0\\t1.0\\t0.0\\t0.0\\t0.0\\t0.0\\t0.0\\t0.0\\t1...\n",
              "1          90  ...  1.0\\t1.0\\t0.0\\t0.0\\t0.0\\t0.0\\t0.0\\t0.0\\t0.0\\t1...\n",
              "2        1981  ...  1.0\\t1.0\\t0.0\\t0.0\\t0.0\\t0.0\\t0.0\\t0.0\\t0.0\\t1...\n",
              "3        4702  ...  1.0\\t1.0\\t0.0\\t0.0\\t0.0\\t0.0\\t0.0\\t0.0\\t0.0\\t1...\n",
              "4        5230  ...  1.0\\t1.0\\t0.0\\t0.0\\t0.0\\t0.0\\t0.0\\t0.0\\t0.0\\t1...\n",
              "\n",
              "[5 rows x 12 columns]"
            ]
          },
          "metadata": {
            "tags": []
          },
          "execution_count": 4
        }
      ]
    },
    {
      "cell_type": "code",
      "metadata": {
        "id": "UXz7Qh6IwiEQ",
        "colab": {
          "base_uri": "https://localhost:8080/"
        },
        "outputId": "6bdcafb5-7af8-433b-a95a-e785a3e0dac8"
      },
      "source": [
        "!python3 /content/DeepConv-DTI/DeepConvDTI.py /content/dataset/training/training_dti.csv /content/dataset/training/training_compound.csv /content/dataset/training/training_protein.csv --validation -n validation_dataset -i /content/dataset/validation/validation_dti.csv -d /content/dataset/validation/validation_compound.csv -t /content/dataset/validation/validation_protein.csv -W -c 512 128 -w 10 15 20 25 30 -p 128 -f 128 -r 0.0001 -n 30 -v Convolution -l 2500 -L 2048 -D 0 -a elu -F 128 -b 32 -y 0.0001 -o ./validation_output.csv -m ./model.model -e 1"
      ],
      "execution_count": null,
      "outputs": [
        {
          "output_type": "stream",
          "text": [
            "2021-01-10 18:17:54.268742: I tensorflow/stream_executor/platform/default/dso_loader.cc:49] Successfully opened dynamic library libcudart.so.10.1\n",
            "\tmodel parameters summary\t\n",
            "=====================================================\n",
            "drug_layers          : [512, 128]\n",
            "protein_strides      : [10, 15, 20, 25, 30]\n",
            "protein_layers       : [128]     \n",
            "fc_layers            : [128]     \n",
            "learning_rate        : 0.0001    \n",
            "decay                : 0.0001    \n",
            "activation           : elu       \n",
            "filters              : 128       \n",
            "dropout              : 0.0       \n",
            "prot_vec             : Convolution\n",
            "prot_len             : 2500      \n",
            "drug_vec             : morgan_fp \n",
            "drug_len             : 2048      \n",
            "=====================================================\n",
            "2021-01-10 18:17:55.936178: I tensorflow/compiler/jit/xla_cpu_device.cc:41] Not creating XLA devices, tf_xla_enable_xla_devices not set\n",
            "2021-01-10 18:17:55.937062: I tensorflow/stream_executor/platform/default/dso_loader.cc:49] Successfully opened dynamic library libcuda.so.1\n",
            "2021-01-10 18:17:55.941130: I tensorflow/stream_executor/cuda/cuda_gpu_executor.cc:941] successful NUMA node read from SysFS had negative value (-1), but there must be at least one NUMA node, so returning NUMA node zero\n",
            "2021-01-10 18:17:55.941639: I tensorflow/core/common_runtime/gpu/gpu_device.cc:1720] Found device 0 with properties: \n",
            "pciBusID: 0000:00:04.0 name: Tesla T4 computeCapability: 7.5\n",
            "coreClock: 1.59GHz coreCount: 40 deviceMemorySize: 14.73GiB deviceMemoryBandwidth: 298.08GiB/s\n",
            "2021-01-10 18:17:55.941674: I tensorflow/stream_executor/platform/default/dso_loader.cc:49] Successfully opened dynamic library libcudart.so.10.1\n",
            "2021-01-10 18:17:55.943346: I tensorflow/stream_executor/platform/default/dso_loader.cc:49] Successfully opened dynamic library libcublas.so.10\n",
            "2021-01-10 18:17:55.943413: I tensorflow/stream_executor/platform/default/dso_loader.cc:49] Successfully opened dynamic library libcublasLt.so.10\n",
            "2021-01-10 18:17:55.944896: I tensorflow/stream_executor/platform/default/dso_loader.cc:49] Successfully opened dynamic library libcufft.so.10\n",
            "2021-01-10 18:17:55.945210: I tensorflow/stream_executor/platform/default/dso_loader.cc:49] Successfully opened dynamic library libcurand.so.10\n",
            "2021-01-10 18:17:55.946888: I tensorflow/stream_executor/platform/default/dso_loader.cc:49] Successfully opened dynamic library libcusolver.so.10\n",
            "2021-01-10 18:17:55.948043: I tensorflow/stream_executor/platform/default/dso_loader.cc:49] Successfully opened dynamic library libcusparse.so.10\n",
            "2021-01-10 18:17:55.951381: I tensorflow/stream_executor/platform/default/dso_loader.cc:49] Successfully opened dynamic library libcudnn.so.7\n",
            "2021-01-10 18:17:55.951495: I tensorflow/stream_executor/cuda/cuda_gpu_executor.cc:941] successful NUMA node read from SysFS had negative value (-1), but there must be at least one NUMA node, so returning NUMA node zero\n",
            "2021-01-10 18:17:55.952041: I tensorflow/stream_executor/cuda/cuda_gpu_executor.cc:941] successful NUMA node read from SysFS had negative value (-1), but there must be at least one NUMA node, so returning NUMA node zero\n",
            "2021-01-10 18:17:55.952506: I tensorflow/core/common_runtime/gpu/gpu_device.cc:1862] Adding visible gpu devices: 0\n",
            "2021-01-10 18:17:56.647380: I tensorflow/compiler/jit/xla_gpu_device.cc:99] Not creating XLA devices, tf_xla_enable_xla_devices not set\n",
            "2021-01-10 18:17:56.647572: I tensorflow/stream_executor/cuda/cuda_gpu_executor.cc:941] successful NUMA node read from SysFS had negative value (-1), but there must be at least one NUMA node, so returning NUMA node zero\n",
            "2021-01-10 18:17:56.648110: I tensorflow/core/common_runtime/gpu/gpu_device.cc:1720] Found device 0 with properties: \n",
            "pciBusID: 0000:00:04.0 name: Tesla T4 computeCapability: 7.5\n",
            "coreClock: 1.59GHz coreCount: 40 deviceMemorySize: 14.73GiB deviceMemoryBandwidth: 298.08GiB/s\n",
            "2021-01-10 18:17:56.648161: I tensorflow/stream_executor/platform/default/dso_loader.cc:49] Successfully opened dynamic library libcudart.so.10.1\n",
            "2021-01-10 18:17:56.648208: I tensorflow/stream_executor/platform/default/dso_loader.cc:49] Successfully opened dynamic library libcublas.so.10\n",
            "2021-01-10 18:17:56.648239: I tensorflow/stream_executor/platform/default/dso_loader.cc:49] Successfully opened dynamic library libcublasLt.so.10\n",
            "2021-01-10 18:17:56.648264: I tensorflow/stream_executor/platform/default/dso_loader.cc:49] Successfully opened dynamic library libcufft.so.10\n",
            "2021-01-10 18:17:56.648286: I tensorflow/stream_executor/platform/default/dso_loader.cc:49] Successfully opened dynamic library libcurand.so.10\n",
            "2021-01-10 18:17:56.648306: I tensorflow/stream_executor/platform/default/dso_loader.cc:49] Successfully opened dynamic library libcusolver.so.10\n",
            "2021-01-10 18:17:56.648336: I tensorflow/stream_executor/platform/default/dso_loader.cc:49] Successfully opened dynamic library libcusparse.so.10\n",
            "2021-01-10 18:17:56.648360: I tensorflow/stream_executor/platform/default/dso_loader.cc:49] Successfully opened dynamic library libcudnn.so.7\n",
            "2021-01-10 18:17:56.648442: I tensorflow/stream_executor/cuda/cuda_gpu_executor.cc:941] successful NUMA node read from SysFS had negative value (-1), but there must be at least one NUMA node, so returning NUMA node zero\n",
            "2021-01-10 18:17:56.648957: I tensorflow/stream_executor/cuda/cuda_gpu_executor.cc:941] successful NUMA node read from SysFS had negative value (-1), but there must be at least one NUMA node, so returning NUMA node zero\n",
            "2021-01-10 18:17:56.649452: I tensorflow/core/common_runtime/gpu/gpu_device.cc:1862] Adding visible gpu devices: 0\n",
            "2021-01-10 18:17:56.649499: I tensorflow/stream_executor/platform/default/dso_loader.cc:49] Successfully opened dynamic library libcudart.so.10.1\n",
            "2021-01-10 18:17:57.329979: I tensorflow/core/common_runtime/gpu/gpu_device.cc:1261] Device interconnect StreamExecutor with strength 1 edge matrix:\n",
            "2021-01-10 18:17:57.330035: I tensorflow/core/common_runtime/gpu/gpu_device.cc:1267]      0 \n",
            "2021-01-10 18:17:57.330051: I tensorflow/core/common_runtime/gpu/gpu_device.cc:1280] 0:   N \n",
            "2021-01-10 18:17:57.330225: I tensorflow/stream_executor/cuda/cuda_gpu_executor.cc:941] successful NUMA node read from SysFS had negative value (-1), but there must be at least one NUMA node, so returning NUMA node zero\n",
            "2021-01-10 18:17:57.330774: I tensorflow/stream_executor/cuda/cuda_gpu_executor.cc:941] successful NUMA node read from SysFS had negative value (-1), but there must be at least one NUMA node, so returning NUMA node zero\n",
            "2021-01-10 18:17:57.331307: I tensorflow/stream_executor/cuda/cuda_gpu_executor.cc:941] successful NUMA node read from SysFS had negative value (-1), but there must be at least one NUMA node, so returning NUMA node zero\n",
            "2021-01-10 18:17:57.331758: W tensorflow/core/common_runtime/gpu/gpu_bfc_allocator.cc:39] Overriding allow_growth setting because the TF_FORCE_GPU_ALLOW_GROWTH environment variable is set. Original config value was 0.\n",
            "2021-01-10 18:17:57.331801: I tensorflow/core/common_runtime/gpu/gpu_device.cc:1406] Created TensorFlow device (/job:localhost/replica:0/task:0/device:GPU:0 with 12367 MB memory) -> physical GPU (device: 0, name: Tesla T4, pci bus id: 0000:00:04.0, compute capability: 7.5)\n",
            "2021-01-10 18:17:57.366038: I tensorflow/compiler/mlir/mlir_graph_optimization_pass.cc:196] None of the MLIR optimization passes are enabled (registered 0 passes)\n",
            "2021-01-10 18:17:57.399926: I tensorflow/core/platform/profile_utils/cpu_utils.cc:112] CPU Frequency: 2199995000 Hz\n",
            "Model: \"model\"\n",
            "__________________________________________________________________________________________________\n",
            "Layer (type)                    Output Shape         Param #     Connected to                     \n",
            "==================================================================================================\n",
            "input_2 (InputLayer)            [(None, 2500)]       0                                            \n",
            "__________________________________________________________________________________________________\n",
            "embedding (Embedding)           (None, 2500, 20)     520         input_2[0][0]                    \n",
            "__________________________________________________________________________________________________\n",
            "spatial_dropout1d (SpatialDropo (None, 2500, 20)     0           embedding[0][0]                  \n",
            "__________________________________________________________________________________________________\n",
            "input_1 (InputLayer)            [(None, 2048)]       0                                            \n",
            "__________________________________________________________________________________________________\n",
            "conv1d (Conv1D)                 (None, 2500, 128)    25728       spatial_dropout1d[0][0]          \n",
            "__________________________________________________________________________________________________\n",
            "conv1d_1 (Conv1D)               (None, 2500, 128)    38528       spatial_dropout1d[0][0]          \n",
            "__________________________________________________________________________________________________\n",
            "conv1d_2 (Conv1D)               (None, 2500, 128)    51328       spatial_dropout1d[0][0]          \n",
            "__________________________________________________________________________________________________\n",
            "conv1d_3 (Conv1D)               (None, 2500, 128)    64128       spatial_dropout1d[0][0]          \n",
            "__________________________________________________________________________________________________\n",
            "conv1d_4 (Conv1D)               (None, 2500, 128)    76928       spatial_dropout1d[0][0]          \n",
            "__________________________________________________________________________________________________\n",
            "dense (Dense)                   (None, 512)          1049088     input_1[0][0]                    \n",
            "__________________________________________________________________________________________________\n",
            "batch_normalization_2 (BatchNor (None, 2500, 128)    512         conv1d[0][0]                     \n",
            "__________________________________________________________________________________________________\n",
            "batch_normalization_3 (BatchNor (None, 2500, 128)    512         conv1d_1[0][0]                   \n",
            "__________________________________________________________________________________________________\n",
            "batch_normalization_4 (BatchNor (None, 2500, 128)    512         conv1d_2[0][0]                   \n",
            "__________________________________________________________________________________________________\n",
            "batch_normalization_5 (BatchNor (None, 2500, 128)    512         conv1d_3[0][0]                   \n",
            "__________________________________________________________________________________________________\n",
            "batch_normalization_6 (BatchNor (None, 2500, 128)    512         conv1d_4[0][0]                   \n",
            "__________________________________________________________________________________________________\n",
            "batch_normalization (BatchNorma (None, 512)          2048        dense[0][0]                      \n",
            "__________________________________________________________________________________________________\n",
            "activation_2 (Activation)       (None, 2500, 128)    0           batch_normalization_2[0][0]      \n",
            "__________________________________________________________________________________________________\n",
            "activation_3 (Activation)       (None, 2500, 128)    0           batch_normalization_3[0][0]      \n",
            "__________________________________________________________________________________________________\n",
            "activation_4 (Activation)       (None, 2500, 128)    0           batch_normalization_4[0][0]      \n",
            "__________________________________________________________________________________________________\n",
            "activation_5 (Activation)       (None, 2500, 128)    0           batch_normalization_5[0][0]      \n",
            "__________________________________________________________________________________________________\n",
            "activation_6 (Activation)       (None, 2500, 128)    0           batch_normalization_6[0][0]      \n",
            "__________________________________________________________________________________________________\n",
            "activation (Activation)         (None, 512)          0           batch_normalization[0][0]        \n",
            "__________________________________________________________________________________________________\n",
            "global_max_pooling1d (GlobalMax (None, 128)          0           activation_2[0][0]               \n",
            "__________________________________________________________________________________________________\n",
            "global_max_pooling1d_1 (GlobalM (None, 128)          0           activation_3[0][0]               \n",
            "__________________________________________________________________________________________________\n",
            "global_max_pooling1d_2 (GlobalM (None, 128)          0           activation_4[0][0]               \n",
            "__________________________________________________________________________________________________\n",
            "global_max_pooling1d_3 (GlobalM (None, 128)          0           activation_5[0][0]               \n",
            "__________________________________________________________________________________________________\n",
            "global_max_pooling1d_4 (GlobalM (None, 128)          0           activation_6[0][0]               \n",
            "__________________________________________________________________________________________________\n",
            "dropout (Dropout)               (None, 512)          0           activation[0][0]                 \n",
            "__________________________________________________________________________________________________\n",
            "concatenate (Concatenate)       (None, 640)          0           global_max_pooling1d[0][0]       \n",
            "                                                                 global_max_pooling1d_1[0][0]     \n",
            "                                                                 global_max_pooling1d_2[0][0]     \n",
            "                                                                 global_max_pooling1d_3[0][0]     \n",
            "                                                                 global_max_pooling1d_4[0][0]     \n",
            "__________________________________________________________________________________________________\n",
            "dense_1 (Dense)                 (None, 128)          65664       dropout[0][0]                    \n",
            "__________________________________________________________________________________________________\n",
            "dense_2 (Dense)                 (None, 128)          82048       concatenate[0][0]                \n",
            "__________________________________________________________________________________________________\n",
            "batch_normalization_1 (BatchNor (None, 128)          512         dense_1[0][0]                    \n",
            "__________________________________________________________________________________________________\n",
            "batch_normalization_7 (BatchNor (None, 128)          512         dense_2[0][0]                    \n",
            "__________________________________________________________________________________________________\n",
            "activation_1 (Activation)       (None, 128)          0           batch_normalization_1[0][0]      \n",
            "__________________________________________________________________________________________________\n",
            "activation_7 (Activation)       (None, 128)          0           batch_normalization_7[0][0]      \n",
            "__________________________________________________________________________________________________\n",
            "dropout_1 (Dropout)             (None, 128)          0           activation_1[0][0]               \n",
            "__________________________________________________________________________________________________\n",
            "dropout_2 (Dropout)             (None, 128)          0           activation_7[0][0]               \n",
            "__________________________________________________________________________________________________\n",
            "concatenate_1 (Concatenate)     (None, 256)          0           dropout_1[0][0]                  \n",
            "                                                                 dropout_2[0][0]                  \n",
            "__________________________________________________________________________________________________\n",
            "dense_3 (Dense)                 (None, 128)          32896       concatenate_1[0][0]              \n",
            "__________________________________________________________________________________________________\n",
            "batch_normalization_8 (BatchNor (None, 128)          512         dense_3[0][0]                    \n",
            "__________________________________________________________________________________________________\n",
            "activation_8 (Activation)       (None, 128)          0           batch_normalization_8[0][0]      \n",
            "__________________________________________________________________________________________________\n",
            "dense_4 (Dense)                 (None, 1)            129         activation_8[0][0]               \n",
            "__________________________________________________________________________________________________\n",
            "lambda (Lambda)                 (None, 1)            0           dense_4[0][0]                    \n",
            "==================================================================================================\n",
            "Total params: 1,493,129\n",
            "Trainable params: 1,490,057\n",
            "Non-trainable params: 3,072\n",
            "__________________________________________________________________________________________________\n",
            "Parsing /content/dataset/training/training_dti.csv , /content/dataset/training/training_compound.csv, /content/dataset/training/training_protein.csv with length 2500, type Convolution\n",
            "Traceback (most recent call last):\n",
            "  File \"/content/DeepConv-DTI/DeepConvDTI.py\", line 353, in <module>\n",
            "    train_dic = parse_data(**train_dic)\n",
            "  File \"/content/DeepConv-DTI/DeepConvDTI.py\", line 43, in parse_data\n",
            "    dti_df = pd.read_csv(dti_dir)\n",
            "  File \"/usr/local/lib/python3.6/dist-packages/pandas/io/parsers.py\", line 688, in read_csv\n",
            "    return _read(filepath_or_buffer, kwds)\n",
            "  File \"/usr/local/lib/python3.6/dist-packages/pandas/io/parsers.py\", line 454, in _read\n",
            "    parser = TextFileReader(fp_or_buf, **kwds)\n",
            "  File \"/usr/local/lib/python3.6/dist-packages/pandas/io/parsers.py\", line 948, in __init__\n",
            "    self._make_engine(self.engine)\n",
            "  File \"/usr/local/lib/python3.6/dist-packages/pandas/io/parsers.py\", line 1180, in _make_engine\n",
            "    self._engine = CParserWrapper(self.f, **self.options)\n",
            "  File \"/usr/local/lib/python3.6/dist-packages/pandas/io/parsers.py\", line 2010, in __init__\n",
            "    self._reader = parsers.TextReader(src, **kwds)\n",
            "  File \"pandas/_libs/parsers.pyx\", line 382, in pandas._libs.parsers.TextReader.__cinit__\n",
            "  File \"pandas/_libs/parsers.pyx\", line 674, in pandas._libs.parsers.TextReader._setup_parser_source\n",
            "FileNotFoundError: [Errno 2] No such file or directory: '/content/dataset/training/training_dti.csv'\n"
          ],
          "name": "stdout"
        }
      ]
    },
    {
      "cell_type": "code",
      "metadata": {
        "id": "YkRTn_uuwv69"
      },
      "source": [
        "!python /content/DeepConv-DTI/DeepConvDTI.py /content/DeepConv-DTI/toy_examples/training_dataset/training_dti.csv /content/DeepConv-DTI/toy_examples/training_dataset/training_compound.csv /content/DeepConv-DTI/toy_examples/training_dataset/training_protein.csv --predict -n predict -i /content/DeepConv-DTI/toy_examples/test_dataset/test_dti.csv -d /content/DeepConv-DTI/toy_examples/test_dataset/test_compound.csv -t /content/DeepConv-DTI/toy_examples/test_dataset/test_protein.csv -c 512 128 -w 10 15 20 25 30 -p 128 -f 128 -r 0.0001 -n 30 -v Convolution -l 2500 -V morgan_fp_r2 -L 2048 -D 0 -a elu -F 128 -b 32 -y 0.0001 -o ./test_output.csv -m ./model.model -e 15 -W"
      ],
      "execution_count": null,
      "outputs": []
    },
    {
      "cell_type": "markdown",
      "metadata": {
        "id": "Hy_SuHhI35zq"
      },
      "source": [
        "# Load BIOSNAP DATASET"
      ]
    },
    {
      "cell_type": "code",
      "metadata": {
        "id": "MEIji6OuzYx9",
        "colab": {
          "base_uri": "https://localhost:8080/"
        },
        "outputId": "37c8d384-3fb9-41b2-fcad-b5c4dd69bc5e"
      },
      "source": [
        "!git clone https://github.com/kexinhuang12345/MolTrans"
      ],
      "execution_count": null,
      "outputs": [
        {
          "output_type": "stream",
          "text": [
            "Cloning into 'MolTrans'...\n",
            "^C\n"
          ],
          "name": "stdout"
        }
      ]
    },
    {
      "cell_type": "code",
      "metadata": {
        "id": "j67F4HFbb_vU"
      },
      "source": [
        "#RDKIT is only setupable with conda that's we setup condaloab\n",
        "!pip install -q condacolab\n",
        "import condacolab\n",
        "condacolab.install()\n"
      ],
      "execution_count": null,
      "outputs": []
    },
    {
      "cell_type": "code",
      "metadata": {
        "id": "SOfy75FmcJMh"
      },
      "source": [
        "# RDKIT LIBRARY FOR MORGAN FINGERPRINTS\n",
        "!conda install -y -c rdkit rdkit;"
      ],
      "execution_count": null,
      "outputs": []
    },
    {
      "cell_type": "code",
      "metadata": {
        "id": "Qd2UqddP4D3_"
      },
      "source": [
        "biosnap_datasets = {'training':\"/content/MolTrans/dataset/BIOSNAP/full_data/train.csv\",\n",
        "                    'validation':\"/content/MolTrans/dataset/BIOSNAP/full_data/val.csv\",\n",
        "                    'test':\"/content/MolTrans/dataset/BIOSNAP/full_data/test.csv\"}"
      ],
      "execution_count": null,
      "outputs": []
    },
    {
      "cell_type": "code",
      "metadata": {
        "id": "WkDvgwvMDcaU"
      },
      "source": [
        "train_df = pd.read_csv(biosnap_datasets['training'])\n",
        "val_df = pd.read_csv(biosnap_datasets['validation'])\n",
        "test_df = pd.read_csv(biosnap_datasets['test'])"
      ],
      "execution_count": null,
      "outputs": []
    },
    {
      "cell_type": "code",
      "metadata": {
        "id": "GqMjPWY34uhg"
      },
      "source": [
        "import os \n",
        "\n",
        "dataset_dir = \"/content/dataset\"\n",
        "\n",
        "def create_dti_csv(df,directory,clas):\n",
        "  if clas == \"DTI\":\n",
        "    csv_name = directory+\"_dti.csv\"\n",
        "    data = df.loc[:,['DrugBank ID','Gene','Label']]\n",
        "    data.columns = ['Compound_ID','Protein_ID','Label']\n",
        "    data['Label'] = data['Label'].apply(int)\n",
        "    path = os.path.join(dataset_dir,directory)\n",
        "    if not os.path.exists(path):\n",
        "      os.makedirs(path)\n",
        "    data.to_csv(path+\"/\"+csv_name)\n",
        "  elif clas ==\"COMPOUND\":\n",
        "    csv_name = directory+\"_compound.csv\"\n",
        "    data = df.loc[:,['DrugBank ID','SMILES','morgan_fp_r1']]\n",
        "    data.columns = ['Compound_ID','SMILES','morgan_fp_r1']\n",
        "    path = os.path.join(dataset_dir,directory)\n",
        "    if not os.path.exists(path):\n",
        "      os.makedirs(path)\n",
        "    data.to_csv(path+\"/\"+csv_name)\n",
        "  elif clas == \"PROTEIN\":\n",
        "    csv_name = directory+\"_protein.csv\"\n",
        "    data = df.loc[:,['Gene','Target Sequence']]\n",
        "    data.columns = ['Protein_ID','Sequence']\n",
        "    path = os.path.join(dataset_dir,directory)\n",
        "    if not os.path.exists(path):\n",
        "      os.makedirs(path)\n",
        "    data.to_csv(path+\"/\"+csv_name)\n",
        "  else:\n",
        "    print(\"GG\")"
      ],
      "execution_count": null,
      "outputs": []
    },
    {
      "cell_type": "code",
      "metadata": {
        "id": "VugjbR92dDwD"
      },
      "source": [
        "from rdkit.Chem import AllChem as Chem\n",
        "import numpy as np\n",
        "\n",
        "def morgan_fingerprint(df):\n",
        "  all_fps = []\n",
        "  for smiles in df['SMILES'].values:\n",
        "    mol = Chem.MolFromSmiles(smiles)\n",
        "    fp = Chem.GetMorganFingerprintAsBitVect(mol, useChirality=True, radius=2,nBits=2048)\n",
        "    vector = np.array(fp)\n",
        "    str_array = [str(x) for x in vector]\n",
        "    fp_with_t = \"\\t\".join(str_array)\n",
        "    all_fps.append(fp_with_t)\n",
        "  df['morgan_fp_r1'] = all_fps\n",
        "  return df\n",
        "\n",
        "train_df_fp = morgan_fingerprint(train_df)\n",
        "print(\"Train df finish...\")\n",
        "test_df_fp = morgan_fingerprint(test_df)\n",
        "print(\"Test df finish...\")\n",
        "val_df_fp = morgan_fingerprint(val_df)"
      ],
      "execution_count": null,
      "outputs": []
    },
    {
      "cell_type": "code",
      "metadata": {
        "id": "KzlcL7GoFMEx"
      },
      "source": [
        "df_s = {\"training\":train_df_fp,\n",
        "        \"test\":test_df_fp,\n",
        "        \"validation\":val_df_fp}"
      ],
      "execution_count": null,
      "outputs": []
    },
    {
      "cell_type": "code",
      "metadata": {
        "id": "RjBBfpt8E3-z"
      },
      "source": [
        "for df in list(df_s.keys()):\n",
        "  for c in (\"DTI\",\"COMPOUND\",\"PROTEIN\"):   \n",
        "    create_dti_csv(df_s[df],df,c)"
      ],
      "execution_count": null,
      "outputs": []
    },
    {
      "cell_type": "code",
      "metadata": {
        "id": "G5CtJbGadKsL"
      },
      "source": [
        "deneme = pd.read_csv(\"/content/dataset/training/training_compound.csv\")\n",
        "deneme.head()"
      ],
      "execution_count": null,
      "outputs": []
    },
    {
      "cell_type": "markdown",
      "metadata": {
        "id": "yw4Yw5M8tOj2"
      },
      "source": [
        "# Train BIOSNAP dataset that we created before by using google colab to get data"
      ]
    },
    {
      "cell_type": "code",
      "metadata": {
        "colab": {
          "base_uri": "https://localhost:8080/"
        },
        "id": "Ea6e702GbIhk",
        "outputId": "cf2b034e-8474-468a-9ab3-9b99cedbbcfc"
      },
      "source": [
        "from google.colab import drive\n",
        "drive.mount('/content/drive')"
      ],
      "execution_count": null,
      "outputs": [
        {
          "output_type": "stream",
          "text": [
            "Mounted at /content/drive\n"
          ],
          "name": "stdout"
        }
      ]
    },
    {
      "cell_type": "markdown",
      "metadata": {
        "id": "jiatUIrqwTOt"
      },
      "source": [
        "Training part"
      ]
    },
    {
      "cell_type": "code",
      "metadata": {
        "id": "OOJRnGtCGmyQ",
        "colab": {
          "base_uri": "https://localhost:8080/"
        },
        "outputId": "d54e87f8-d712-40c9-cca4-4a37b66705d2"
      },
      "source": [
        "!python3 /content/DeepConv-DTI/DeepConvDTI.py /content/drive/MyDrive/DTI-TEZ/dataset/training/training_dti.csv /content/drive/MyDrive/DTI-TEZ/dataset/training/training_compound.csv /content/drive/MyDrive/DTI-TEZ/dataset/training/training_protein.csv --validation -n validation_dataset -i /content/drive/MyDrive/DTI-TEZ/dataset/validation/validation_dti.csv -d /content/drive/MyDrive/DTI-TEZ/dataset/validation/validation_compound.csv -t /content/drive/MyDrive/DTI-TEZ/dataset/validation/validation_protein.csv -W -c 512 128 -w 10 15 20 25 30 -p 128 -f 128 -r 0.0001 -n 30 -v Convolution -l 2500 -V morgan_fp_r1 -L 2048 -D 0 -a elu -F 128 -b 16 -y 0.0001 -o ./validation_output.csv -m ./model.model -e 15"
      ],
      "execution_count": null,
      "outputs": [
        {
          "output_type": "stream",
          "text": [
            "2021-03-24 20:56:27.769761: I tensorflow/stream_executor/platform/default/dso_loader.cc:49] Successfully opened dynamic library libcudart.so.11.0\n",
            "\tmodel parameters summary\t\n",
            "=====================================================\n",
            "drug_layers          : [512, 128]\n",
            "protein_strides      : [10, 15, 20, 25, 30]\n",
            "protein_layers       : [128]     \n",
            "fc_layers            : [128]     \n",
            "learning_rate        : 0.0001    \n",
            "decay                : 0.0001    \n",
            "activation           : elu       \n",
            "filters              : 128       \n",
            "dropout              : 0.0       \n",
            "prot_vec             : Convolution\n",
            "prot_len             : 2500      \n",
            "drug_vec             : morgan_fp_r1\n",
            "drug_len             : 2048      \n",
            "=====================================================\n",
            "2021-03-24 20:56:29.311724: I tensorflow/compiler/jit/xla_cpu_device.cc:41] Not creating XLA devices, tf_xla_enable_xla_devices not set\n",
            "2021-03-24 20:56:29.312577: I tensorflow/stream_executor/platform/default/dso_loader.cc:49] Successfully opened dynamic library libcuda.so.1\n",
            "2021-03-24 20:56:29.343563: I tensorflow/stream_executor/cuda/cuda_gpu_executor.cc:941] successful NUMA node read from SysFS had negative value (-1), but there must be at least one NUMA node, so returning NUMA node zero\n",
            "2021-03-24 20:56:29.344162: I tensorflow/core/common_runtime/gpu/gpu_device.cc:1720] Found device 0 with properties: \n",
            "pciBusID: 0000:00:04.0 name: Tesla T4 computeCapability: 7.5\n",
            "coreClock: 1.59GHz coreCount: 40 deviceMemorySize: 14.75GiB deviceMemoryBandwidth: 298.08GiB/s\n",
            "2021-03-24 20:56:29.344202: I tensorflow/stream_executor/platform/default/dso_loader.cc:49] Successfully opened dynamic library libcudart.so.11.0\n",
            "2021-03-24 20:56:29.346572: I tensorflow/stream_executor/platform/default/dso_loader.cc:49] Successfully opened dynamic library libcublas.so.11\n",
            "2021-03-24 20:56:29.346661: I tensorflow/stream_executor/platform/default/dso_loader.cc:49] Successfully opened dynamic library libcublasLt.so.11\n",
            "2021-03-24 20:56:29.348277: I tensorflow/stream_executor/platform/default/dso_loader.cc:49] Successfully opened dynamic library libcufft.so.10\n",
            "2021-03-24 20:56:29.348612: I tensorflow/stream_executor/platform/default/dso_loader.cc:49] Successfully opened dynamic library libcurand.so.10\n",
            "2021-03-24 20:56:29.350549: I tensorflow/stream_executor/platform/default/dso_loader.cc:49] Successfully opened dynamic library libcusolver.so.10\n",
            "2021-03-24 20:56:29.351139: I tensorflow/stream_executor/platform/default/dso_loader.cc:49] Successfully opened dynamic library libcusparse.so.11\n",
            "2021-03-24 20:56:29.351314: I tensorflow/stream_executor/platform/default/dso_loader.cc:49] Successfully opened dynamic library libcudnn.so.8\n",
            "2021-03-24 20:56:29.351419: I tensorflow/stream_executor/cuda/cuda_gpu_executor.cc:941] successful NUMA node read from SysFS had negative value (-1), but there must be at least one NUMA node, so returning NUMA node zero\n",
            "2021-03-24 20:56:29.352022: I tensorflow/stream_executor/cuda/cuda_gpu_executor.cc:941] successful NUMA node read from SysFS had negative value (-1), but there must be at least one NUMA node, so returning NUMA node zero\n",
            "2021-03-24 20:56:29.352540: I tensorflow/core/common_runtime/gpu/gpu_device.cc:1862] Adding visible gpu devices: 0\n",
            "2021-03-24 20:56:30.141453: I tensorflow/compiler/jit/xla_gpu_device.cc:99] Not creating XLA devices, tf_xla_enable_xla_devices not set\n",
            "2021-03-24 20:56:30.141655: I tensorflow/stream_executor/cuda/cuda_gpu_executor.cc:941] successful NUMA node read from SysFS had negative value (-1), but there must be at least one NUMA node, so returning NUMA node zero\n",
            "2021-03-24 20:56:30.142290: I tensorflow/core/common_runtime/gpu/gpu_device.cc:1720] Found device 0 with properties: \n",
            "pciBusID: 0000:00:04.0 name: Tesla T4 computeCapability: 7.5\n",
            "coreClock: 1.59GHz coreCount: 40 deviceMemorySize: 14.75GiB deviceMemoryBandwidth: 298.08GiB/s\n",
            "2021-03-24 20:56:30.142347: I tensorflow/stream_executor/platform/default/dso_loader.cc:49] Successfully opened dynamic library libcudart.so.11.0\n",
            "2021-03-24 20:56:30.142395: I tensorflow/stream_executor/platform/default/dso_loader.cc:49] Successfully opened dynamic library libcublas.so.11\n",
            "2021-03-24 20:56:30.142417: I tensorflow/stream_executor/platform/default/dso_loader.cc:49] Successfully opened dynamic library libcublasLt.so.11\n",
            "2021-03-24 20:56:30.142439: I tensorflow/stream_executor/platform/default/dso_loader.cc:49] Successfully opened dynamic library libcufft.so.10\n",
            "2021-03-24 20:56:30.142463: I tensorflow/stream_executor/platform/default/dso_loader.cc:49] Successfully opened dynamic library libcurand.so.10\n",
            "2021-03-24 20:56:30.142484: I tensorflow/stream_executor/platform/default/dso_loader.cc:49] Successfully opened dynamic library libcusolver.so.10\n",
            "2021-03-24 20:56:30.142514: I tensorflow/stream_executor/platform/default/dso_loader.cc:49] Successfully opened dynamic library libcusparse.so.11\n",
            "2021-03-24 20:56:30.142535: I tensorflow/stream_executor/platform/default/dso_loader.cc:49] Successfully opened dynamic library libcudnn.so.8\n",
            "2021-03-24 20:56:30.142620: I tensorflow/stream_executor/cuda/cuda_gpu_executor.cc:941] successful NUMA node read from SysFS had negative value (-1), but there must be at least one NUMA node, so returning NUMA node zero\n",
            "2021-03-24 20:56:30.143216: I tensorflow/stream_executor/cuda/cuda_gpu_executor.cc:941] successful NUMA node read from SysFS had negative value (-1), but there must be at least one NUMA node, so returning NUMA node zero\n",
            "2021-03-24 20:56:30.143724: I tensorflow/core/common_runtime/gpu/gpu_device.cc:1862] Adding visible gpu devices: 0\n",
            "2021-03-24 20:56:30.143775: I tensorflow/stream_executor/platform/default/dso_loader.cc:49] Successfully opened dynamic library libcudart.so.11.0\n",
            "2021-03-24 20:56:30.649410: I tensorflow/core/common_runtime/gpu/gpu_device.cc:1261] Device interconnect StreamExecutor with strength 1 edge matrix:\n",
            "2021-03-24 20:56:30.649466: I tensorflow/core/common_runtime/gpu/gpu_device.cc:1267]      0 \n",
            "2021-03-24 20:56:30.649494: I tensorflow/core/common_runtime/gpu/gpu_device.cc:1280] 0:   N \n",
            "2021-03-24 20:56:30.649718: I tensorflow/stream_executor/cuda/cuda_gpu_executor.cc:941] successful NUMA node read from SysFS had negative value (-1), but there must be at least one NUMA node, so returning NUMA node zero\n",
            "2021-03-24 20:56:30.650373: I tensorflow/stream_executor/cuda/cuda_gpu_executor.cc:941] successful NUMA node read from SysFS had negative value (-1), but there must be at least one NUMA node, so returning NUMA node zero\n",
            "2021-03-24 20:56:30.650981: I tensorflow/stream_executor/cuda/cuda_gpu_executor.cc:941] successful NUMA node read from SysFS had negative value (-1), but there must be at least one NUMA node, so returning NUMA node zero\n",
            "2021-03-24 20:56:30.651480: W tensorflow/core/common_runtime/gpu/gpu_bfc_allocator.cc:39] Overriding allow_growth setting because the TF_FORCE_GPU_ALLOW_GROWTH environment variable is set. Original config value was 0.\n",
            "2021-03-24 20:56:30.651532: I tensorflow/core/common_runtime/gpu/gpu_device.cc:1406] Created TensorFlow device (/job:localhost/replica:0/task:0/device:GPU:0 with 13994 MB memory) -> physical GPU (device: 0, name: Tesla T4, pci bus id: 0000:00:04.0, compute capability: 7.5)\n",
            "2021-03-24 20:56:30.682862: I tensorflow/compiler/mlir/mlir_graph_optimization_pass.cc:196] None of the MLIR optimization passes are enabled (registered 0 passes)\n",
            "2021-03-24 20:56:30.714990: I tensorflow/core/platform/profile_utils/cpu_utils.cc:112] CPU Frequency: 2199995000 Hz\n",
            "Model: \"model\"\n",
            "__________________________________________________________________________________________________\n",
            "Layer (type)                    Output Shape         Param #     Connected to                     \n",
            "==================================================================================================\n",
            "input_2 (InputLayer)            [(None, 2500)]       0                                            \n",
            "__________________________________________________________________________________________________\n",
            "embedding (Embedding)           (None, 2500, 20)     520         input_2[0][0]                    \n",
            "__________________________________________________________________________________________________\n",
            "spatial_dropout1d (SpatialDropo (None, 2500, 20)     0           embedding[0][0]                  \n",
            "__________________________________________________________________________________________________\n",
            "input_1 (InputLayer)            [(None, 2048)]       0                                            \n",
            "__________________________________________________________________________________________________\n",
            "conv1d (Conv1D)                 (None, 2500, 128)    25728       spatial_dropout1d[0][0]          \n",
            "__________________________________________________________________________________________________\n",
            "conv1d_1 (Conv1D)               (None, 2500, 128)    38528       spatial_dropout1d[0][0]          \n",
            "__________________________________________________________________________________________________\n",
            "conv1d_2 (Conv1D)               (None, 2500, 128)    51328       spatial_dropout1d[0][0]          \n",
            "__________________________________________________________________________________________________\n",
            "conv1d_3 (Conv1D)               (None, 2500, 128)    64128       spatial_dropout1d[0][0]          \n",
            "__________________________________________________________________________________________________\n",
            "conv1d_4 (Conv1D)               (None, 2500, 128)    76928       spatial_dropout1d[0][0]          \n",
            "__________________________________________________________________________________________________\n",
            "dense (Dense)                   (None, 512)          1049088     input_1[0][0]                    \n",
            "__________________________________________________________________________________________________\n",
            "batch_normalization_2 (BatchNor (None, 2500, 128)    512         conv1d[0][0]                     \n",
            "__________________________________________________________________________________________________\n",
            "batch_normalization_3 (BatchNor (None, 2500, 128)    512         conv1d_1[0][0]                   \n",
            "__________________________________________________________________________________________________\n",
            "batch_normalization_4 (BatchNor (None, 2500, 128)    512         conv1d_2[0][0]                   \n",
            "__________________________________________________________________________________________________\n",
            "batch_normalization_5 (BatchNor (None, 2500, 128)    512         conv1d_3[0][0]                   \n",
            "__________________________________________________________________________________________________\n",
            "batch_normalization_6 (BatchNor (None, 2500, 128)    512         conv1d_4[0][0]                   \n",
            "__________________________________________________________________________________________________\n",
            "batch_normalization (BatchNorma (None, 512)          2048        dense[0][0]                      \n",
            "__________________________________________________________________________________________________\n",
            "activation_2 (Activation)       (None, 2500, 128)    0           batch_normalization_2[0][0]      \n",
            "__________________________________________________________________________________________________\n",
            "activation_3 (Activation)       (None, 2500, 128)    0           batch_normalization_3[0][0]      \n",
            "__________________________________________________________________________________________________\n",
            "activation_4 (Activation)       (None, 2500, 128)    0           batch_normalization_4[0][0]      \n",
            "__________________________________________________________________________________________________\n",
            "activation_5 (Activation)       (None, 2500, 128)    0           batch_normalization_5[0][0]      \n",
            "__________________________________________________________________________________________________\n",
            "activation_6 (Activation)       (None, 2500, 128)    0           batch_normalization_6[0][0]      \n",
            "__________________________________________________________________________________________________\n",
            "activation (Activation)         (None, 512)          0           batch_normalization[0][0]        \n",
            "__________________________________________________________________________________________________\n",
            "global_max_pooling1d (GlobalMax (None, 128)          0           activation_2[0][0]               \n",
            "__________________________________________________________________________________________________\n",
            "global_max_pooling1d_1 (GlobalM (None, 128)          0           activation_3[0][0]               \n",
            "__________________________________________________________________________________________________\n",
            "global_max_pooling1d_2 (GlobalM (None, 128)          0           activation_4[0][0]               \n",
            "__________________________________________________________________________________________________\n",
            "global_max_pooling1d_3 (GlobalM (None, 128)          0           activation_5[0][0]               \n",
            "__________________________________________________________________________________________________\n",
            "global_max_pooling1d_4 (GlobalM (None, 128)          0           activation_6[0][0]               \n",
            "__________________________________________________________________________________________________\n",
            "dropout (Dropout)               (None, 512)          0           activation[0][0]                 \n",
            "__________________________________________________________________________________________________\n",
            "concatenate (Concatenate)       (None, 640)          0           global_max_pooling1d[0][0]       \n",
            "                                                                 global_max_pooling1d_1[0][0]     \n",
            "                                                                 global_max_pooling1d_2[0][0]     \n",
            "                                                                 global_max_pooling1d_3[0][0]     \n",
            "                                                                 global_max_pooling1d_4[0][0]     \n",
            "__________________________________________________________________________________________________\n",
            "dense_1 (Dense)                 (None, 128)          65664       dropout[0][0]                    \n",
            "__________________________________________________________________________________________________\n",
            "dense_2 (Dense)                 (None, 128)          82048       concatenate[0][0]                \n",
            "__________________________________________________________________________________________________\n",
            "batch_normalization_1 (BatchNor (None, 128)          512         dense_1[0][0]                    \n",
            "__________________________________________________________________________________________________\n",
            "batch_normalization_7 (BatchNor (None, 128)          512         dense_2[0][0]                    \n",
            "__________________________________________________________________________________________________\n",
            "activation_1 (Activation)       (None, 128)          0           batch_normalization_1[0][0]      \n",
            "__________________________________________________________________________________________________\n",
            "activation_7 (Activation)       (None, 128)          0           batch_normalization_7[0][0]      \n",
            "__________________________________________________________________________________________________\n",
            "dropout_1 (Dropout)             (None, 128)          0           activation_1[0][0]               \n",
            "__________________________________________________________________________________________________\n",
            "dropout_2 (Dropout)             (None, 128)          0           activation_7[0][0]               \n",
            "__________________________________________________________________________________________________\n",
            "concatenate_1 (Concatenate)     (None, 256)          0           dropout_1[0][0]                  \n",
            "                                                                 dropout_2[0][0]                  \n",
            "__________________________________________________________________________________________________\n",
            "dense_3 (Dense)                 (None, 128)          32896       concatenate_1[0][0]              \n",
            "__________________________________________________________________________________________________\n",
            "batch_normalization_8 (BatchNor (None, 128)          512         dense_3[0][0]                    \n",
            "__________________________________________________________________________________________________\n",
            "activation_8 (Activation)       (None, 128)          0           batch_normalization_8[0][0]      \n",
            "__________________________________________________________________________________________________\n",
            "dense_4 (Dense)                 (None, 1)            129         activation_8[0][0]               \n",
            "__________________________________________________________________________________________________\n",
            "lambda (Lambda)                 (None, 1)            0           dense_4[0][0]                    \n",
            "==================================================================================================\n",
            "Total params: 1,493,129\n",
            "Trainable params: 1,490,057\n",
            "Non-trainable params: 3,072\n",
            "__________________________________________________________________________________________________\n",
            "Parsing /content/drive/MyDrive/DTI-TEZ/dataset/training/training_dti.csv , /content/drive/MyDrive/DTI-TEZ/dataset/training/training_compound.csv, /content/drive/MyDrive/DTI-TEZ/dataset/training/training_protein.csv with length 2500, type Convolution\n",
            "asdas1\n",
            "buraya kadar geldi mi\n",
            "o zaman buraya da geldin\n",
            "asdasd2\n",
            "asdasd3\n",
            "\tPositive data : 9670\n",
            "\tNegative data : 9564\n",
            "Parsing /content/drive/MyDrive/DTI-TEZ/dataset/validation/validation_dti.csv , /content/drive/MyDrive/DTI-TEZ/dataset/validation/validation_compound.csv, /content/drive/MyDrive/DTI-TEZ/dataset/validation/validation_protein.csv with length 2500, type Convolution\n",
            "asdas1\n",
            "buraya kadar geldi mi\n",
            "o zaman buraya da geldin\n",
            "asdasd2\n",
            "asdasd3\n",
            "\tPositive data : 1396\n",
            "\tNegative data : 1352\n",
            "\tvalidation summary\t\n",
            "=====================================================\n",
            "n_epoch              : 15        \n",
            "batch_size           : 16        \n",
            "output_file          : ./validation_output.csv\n",
            "=====================================================\n",
            "Train on 19234 samples\n",
            "2021-03-24 20:56:42.238614: I tensorflow/stream_executor/platform/default/dso_loader.cc:49] Successfully opened dynamic library libcublas.so.11\n",
            "2021-03-24 20:56:42.633804: I tensorflow/stream_executor/platform/default/dso_loader.cc:49] Successfully opened dynamic library libcublasLt.so.11\n",
            "2021-03-24 20:56:42.655752: I tensorflow/stream_executor/platform/default/dso_loader.cc:49] Successfully opened dynamic library libcudnn.so.8\n",
            "19234/19234 [==============================] - 73s 4ms/sample - loss: 2.1335 - accuracy: 0.6864\n",
            "\tPredction of 30\n",
            "/usr/local/lib/python3.7/dist-packages/tensorflow/python/keras/engine/training.py:2325: UserWarning: `Model.state_updates` will be removed in a future version. This property should not be used in TensorFlow 2.0, as `updates` are applied automatically.\n",
            "  warnings.warn('`Model.state_updates` will be removed in a future version. '\n",
            "/content/DeepConv-DTI/DeepConvDTI.py:201: RuntimeWarning: divide by zero encountered in true_divide\n",
            "  EERs = (1-recall)/(1-precision)\n",
            "\tArea Under ROC Curve(AUC): 0.850\n",
            "\tArea Under PR Curve(AUPR): 0.872\n",
            "\tOptimal threshold(AUC)   : 0.004 \n",
            "\tOptimal threshold(AUPR)  : 0.256\n",
            "=================================================\n",
            "Train on 19234 samples\n",
            "Epoch 2/2\n",
            "19234/19234 [==============================] - 72s 4ms/sample - loss: 1.8354 - accuracy: 0.7802\n",
            "\tPredction of 30\n",
            "\tArea Under ROC Curve(AUC): 0.865\n",
            "\tArea Under PR Curve(AUPR): 0.882\n",
            "\tOptimal threshold(AUC)   : 0.009 \n",
            "\tOptimal threshold(AUPR)  : 0.685\n",
            "=================================================\n",
            "Train on 19234 samples\n",
            "Epoch 3/3\n",
            "19234/19234 [==============================] - 72s 4ms/sample - loss: 1.6590 - accuracy: 0.8045\n",
            "\tPredction of 30\n",
            "\tArea Under ROC Curve(AUC): 0.877\n",
            "\tArea Under PR Curve(AUPR): 0.891\n",
            "\tOptimal threshold(AUC)   : 0.002 \n",
            "\tOptimal threshold(AUPR)  : 0.427\n",
            "=================================================\n",
            "Train on 19234 samples\n",
            "Epoch 4/4\n",
            "19234/19234 [==============================] - 72s 4ms/sample - loss: 1.5079 - accuracy: 0.8283\n",
            "\tPredction of 30\n",
            "\tArea Under ROC Curve(AUC): 0.878\n",
            "\tArea Under PR Curve(AUPR): 0.895\n",
            "\tOptimal threshold(AUC)   : 0.002 \n",
            "\tOptimal threshold(AUPR)  : 0.567\n",
            "=================================================\n",
            "Train on 19234 samples\n",
            "Epoch 5/5\n",
            "19234/19234 [==============================] - 72s 4ms/sample - loss: 1.3952 - accuracy: 0.8429\n",
            "\tPredction of 30\n",
            "\tArea Under ROC Curve(AUC): 0.882\n",
            "\tArea Under PR Curve(AUPR): 0.896\n",
            "\tOptimal threshold(AUC)   : 0.000 \n",
            "\tOptimal threshold(AUPR)  : 0.098\n",
            "=================================================\n",
            "Train on 19234 samples\n",
            "Epoch 6/6\n",
            "19234/19234 [==============================] - 71s 4ms/sample - loss: 1.3012 - accuracy: 0.8504\n",
            "\tPredction of 30\n",
            "\tArea Under ROC Curve(AUC): 0.881\n",
            "\tArea Under PR Curve(AUPR): 0.895\n",
            "\tOptimal threshold(AUC)   : 0.001 \n",
            "\tOptimal threshold(AUPR)  : 0.758\n",
            "=================================================\n",
            "Train on 19234 samples\n",
            "Epoch 7/7\n",
            "19234/19234 [==============================] - 72s 4ms/sample - loss: 1.2128 - accuracy: 0.8643\n",
            "\tPredction of 30\n",
            "\tArea Under ROC Curve(AUC): 0.885\n",
            "\tArea Under PR Curve(AUPR): 0.896\n",
            "\tOptimal threshold(AUC)   : 0.000 \n",
            "\tOptimal threshold(AUPR)  : 0.283\n",
            "=================================================\n",
            "Train on 19234 samples\n",
            "Epoch 8/8\n",
            "19234/19234 [==============================] - 72s 4ms/sample - loss: 1.1565 - accuracy: 0.8702\n",
            "\tPredction of 30\n",
            "\tArea Under ROC Curve(AUC): 0.889\n",
            "\tArea Under PR Curve(AUPR): 0.899\n",
            "\tOptimal threshold(AUC)   : 0.000 \n",
            "\tOptimal threshold(AUPR)  : 0.321\n",
            "=================================================\n",
            "Train on 19234 samples\n",
            "Epoch 9/9\n",
            "19234/19234 [==============================] - 72s 4ms/sample - loss: 1.0993 - accuracy: 0.8768\n",
            "\tPredction of 30\n",
            "\tArea Under ROC Curve(AUC): 0.891\n",
            "\tArea Under PR Curve(AUPR): 0.901\n",
            "\tOptimal threshold(AUC)   : 0.001 \n",
            "\tOptimal threshold(AUPR)  : 0.725\n",
            "=================================================\n",
            "Train on 19234 samples\n",
            "Epoch 10/10\n",
            "19234/19234 [==============================] - 71s 4ms/sample - loss: 1.0458 - accuracy: 0.8867\n",
            "\tPredction of 30\n",
            "\tArea Under ROC Curve(AUC): 0.885\n",
            "\tArea Under PR Curve(AUPR): 0.898\n",
            "\tOptimal threshold(AUC)   : 0.000 \n",
            "\tOptimal threshold(AUPR)  : 0.349\n",
            "=================================================\n",
            "Train on 19234 samples\n",
            "Epoch 11/11\n",
            "19234/19234 [==============================] - 71s 4ms/sample - loss: 1.0040 - accuracy: 0.8947\n",
            "\tPredction of 30\n",
            "\tArea Under ROC Curve(AUC): 0.893\n",
            "\tArea Under PR Curve(AUPR): 0.902\n",
            "\tOptimal threshold(AUC)   : 0.000 \n",
            "\tOptimal threshold(AUPR)  : 0.323\n",
            "=================================================\n",
            "Train on 19234 samples\n",
            "Epoch 12/12\n",
            "19234/19234 [==============================] - 72s 4ms/sample - loss: 0.9625 - accuracy: 0.8996\n",
            "\tPredction of 30\n",
            "\tArea Under ROC Curve(AUC): 0.889\n",
            "\tArea Under PR Curve(AUPR): 0.900\n",
            "\tOptimal threshold(AUC)   : 0.000 \n",
            "\tOptimal threshold(AUPR)  : 0.661\n",
            "=================================================\n",
            "Train on 19234 samples\n",
            "Epoch 13/13\n",
            "19234/19234 [==============================] - 72s 4ms/sample - loss: 0.9248 - accuracy: 0.9058\n",
            "\tPredction of 30\n",
            "\tArea Under ROC Curve(AUC): 0.885\n",
            "\tArea Under PR Curve(AUPR): 0.895\n",
            "\tOptimal threshold(AUC)   : 0.000 \n",
            "\tOptimal threshold(AUPR)  : 0.438\n",
            "=================================================\n",
            "Train on 19234 samples\n",
            "Epoch 14/14\n",
            "19234/19234 [==============================] - 71s 4ms/sample - loss: 0.8956 - accuracy: 0.9081\n",
            "\tPredction of 30\n",
            "\tArea Under ROC Curve(AUC): 0.894\n",
            "\tArea Under PR Curve(AUPR): 0.902\n",
            "\tOptimal threshold(AUC)   : 0.000 \n",
            "\tOptimal threshold(AUPR)  : 0.439\n",
            "=================================================\n",
            "Train on 19234 samples\n",
            "Epoch 15/15\n",
            "19234/19234 [==============================] - 71s 4ms/sample - loss: 0.8616 - accuracy: 0.9151\n",
            "\tPredction of 30\n",
            "\tArea Under ROC Curve(AUC): 0.891\n",
            "\tArea Under PR Curve(AUPR): 0.902\n",
            "\tOptimal threshold(AUC)   : 0.000 \n",
            "\tOptimal threshold(AUPR)  : 0.486\n",
            "=================================================\n",
            "save to ./validation_output.csv\n",
            "               parameter  ...                  30\n",
            "            window_sizes  ... opt_threshold(AUPR)\n",
            "0   [10, 15, 20, 25, 30]  ...            0.256350\n",
            "1   [10, 15, 20, 25, 30]  ...            0.685064\n",
            "2   [10, 15, 20, 25, 30]  ...            0.426702\n",
            "3   [10, 15, 20, 25, 30]  ...            0.566722\n",
            "4   [10, 15, 20, 25, 30]  ...            0.098353\n",
            "5   [10, 15, 20, 25, 30]  ...            0.757763\n",
            "6   [10, 15, 20, 25, 30]  ...            0.282527\n",
            "7   [10, 15, 20, 25, 30]  ...            0.321068\n",
            "8   [10, 15, 20, 25, 30]  ...            0.725473\n",
            "9   [10, 15, 20, 25, 30]  ...            0.349151\n",
            "10  [10, 15, 20, 25, 30]  ...            0.322650\n",
            "11  [10, 15, 20, 25, 30]  ...            0.660831\n",
            "12  [10, 15, 20, 25, 30]  ...            0.438302\n",
            "13  [10, 15, 20, 25, 30]  ...            0.439091\n",
            "14  [10, 15, 20, 25, 30]  ...            0.486340\n",
            "\n",
            "[15 rows x 9 columns]\n",
            "2021-03-24 21:15:27.866141: I tensorflow/compiler/jit/xla_gpu_device.cc:99] Not creating XLA devices, tf_xla_enable_xla_devices not set\n",
            "2021-03-24 21:15:27.866361: I tensorflow/stream_executor/cuda/cuda_gpu_executor.cc:941] successful NUMA node read from SysFS had negative value (-1), but there must be at least one NUMA node, so returning NUMA node zero\n",
            "2021-03-24 21:15:27.866929: I tensorflow/core/common_runtime/gpu/gpu_device.cc:1720] Found device 0 with properties: \n",
            "pciBusID: 0000:00:04.0 name: Tesla T4 computeCapability: 7.5\n",
            "coreClock: 1.59GHz coreCount: 40 deviceMemorySize: 14.75GiB deviceMemoryBandwidth: 298.08GiB/s\n",
            "2021-03-24 21:15:27.867003: I tensorflow/stream_executor/platform/default/dso_loader.cc:49] Successfully opened dynamic library libcudart.so.11.0\n",
            "2021-03-24 21:15:27.867064: I tensorflow/stream_executor/platform/default/dso_loader.cc:49] Successfully opened dynamic library libcublas.so.11\n",
            "2021-03-24 21:15:27.867087: I tensorflow/stream_executor/platform/default/dso_loader.cc:49] Successfully opened dynamic library libcublasLt.so.11\n",
            "2021-03-24 21:15:27.867111: I tensorflow/stream_executor/platform/default/dso_loader.cc:49] Successfully opened dynamic library libcufft.so.10\n",
            "2021-03-24 21:15:27.867133: I tensorflow/stream_executor/platform/default/dso_loader.cc:49] Successfully opened dynamic library libcurand.so.10\n",
            "2021-03-24 21:15:27.867157: I tensorflow/stream_executor/platform/default/dso_loader.cc:49] Successfully opened dynamic library libcusolver.so.10\n",
            "2021-03-24 21:15:27.867179: I tensorflow/stream_executor/platform/default/dso_loader.cc:49] Successfully opened dynamic library libcusparse.so.11\n",
            "2021-03-24 21:15:27.867200: I tensorflow/stream_executor/platform/default/dso_loader.cc:49] Successfully opened dynamic library libcudnn.so.8\n",
            "2021-03-24 21:15:27.867289: I tensorflow/stream_executor/cuda/cuda_gpu_executor.cc:941] successful NUMA node read from SysFS had negative value (-1), but there must be at least one NUMA node, so returning NUMA node zero\n",
            "2021-03-24 21:15:27.867826: I tensorflow/stream_executor/cuda/cuda_gpu_executor.cc:941] successful NUMA node read from SysFS had negative value (-1), but there must be at least one NUMA node, so returning NUMA node zero\n",
            "2021-03-24 21:15:27.868290: I tensorflow/core/common_runtime/gpu/gpu_device.cc:1862] Adding visible gpu devices: 0\n",
            "2021-03-24 21:15:27.868340: I tensorflow/core/common_runtime/gpu/gpu_device.cc:1261] Device interconnect StreamExecutor with strength 1 edge matrix:\n",
            "2021-03-24 21:15:27.868355: I tensorflow/core/common_runtime/gpu/gpu_device.cc:1267]      0 \n",
            "2021-03-24 21:15:27.868365: I tensorflow/core/common_runtime/gpu/gpu_device.cc:1280] 0:   N \n",
            "2021-03-24 21:15:27.868461: I tensorflow/stream_executor/cuda/cuda_gpu_executor.cc:941] successful NUMA node read from SysFS had negative value (-1), but there must be at least one NUMA node, so returning NUMA node zero\n",
            "2021-03-24 21:15:27.868981: I tensorflow/stream_executor/cuda/cuda_gpu_executor.cc:941] successful NUMA node read from SysFS had negative value (-1), but there must be at least one NUMA node, so returning NUMA node zero\n",
            "2021-03-24 21:15:27.869463: I tensorflow/core/common_runtime/gpu/gpu_device.cc:1406] Created TensorFlow device (/job:localhost/replica:0/task:0/device:GPU:0 with 13994 MB memory) -> physical GPU (device: 0, name: Tesla T4, pci bus id: 0000:00:04.0, compute capability: 7.5)\n",
            "2021-03-24 21:15:30.004808: W tensorflow/python/util/util.cc:348] Sets are not currently considered sequences, but this may change in the future, so consider avoiding using them.\n"
          ],
          "name": "stdout"
        }
      ]
    },
    {
      "cell_type": "code",
      "metadata": {
        "id": "DmZTkf_mdIny"
      },
      "source": [
        "!python /content/DeepConv-DTI/predict_with_model.py /content/model.model -n predict -i /content/drive/MyDrive/DTI-TEZ/dataset/test/test_dti.csv -d /content/drive/MyDrive/DTI-TEZ/dataset/test/test_compound.csv -t /content/drive/MyDrive/DTI-TEZ/dataset/test/test_protein.csv -v Convolution -l 2500 -V morgan_fp_r1 -L 2048 -W -o test_result.csv"
      ],
      "execution_count": null,
      "outputs": []
    },
    {
      "cell_type": "code",
      "metadata": {
        "id": "i9uzwJde8M5z",
        "colab": {
          "base_uri": "https://localhost:8080/"
        },
        "outputId": "ad76cf37-a2ca-4b90-89e3-28543a19af78"
      },
      "source": [
        "!python /content/DeepConv-DTI/evaluate_performance.py /content/test_result.csv -n predict -T 0.2"
      ],
      "execution_count": null,
      "outputs": [
        {
          "output_type": "stream",
          "text": [
            "Evaluation of the predict set \n",
            "\tSen :  0.9014440433212997\n",
            "\tSpe :  0.6526045487894351\n",
            "\tAcc :  0.7780203784570596\n",
            "\tPrecision :  0.7250290360046457\n",
            "\tF1 :  0.8036691342130673\n"
          ],
          "name": "stdout"
        }
      ]
    },
    {
      "cell_type": "markdown",
      "metadata": {
        "id": "1w4MjmUC9ktu"
      },
      "source": [
        "# Yeni Bölüm"
      ]
    },
    {
      "cell_type": "code",
      "metadata": {
        "id": "-FL-Wu5N5pGf"
      },
      "source": [
        "import torch\n",
        "from torch import nn\n",
        "from torch.nn import MSELoss\n",
        "from torch.nn import functional as F\n",
        "from torch.utils.data import Dataset\n",
        "from torchvision.datasets.utils import download_url, check_integrity\n",
        "\n",
        "from sklearn.model_selection import train_test_split\n",
        "\n",
        "from functools import partial\n",
        "import numpy as np\n"
      ],
      "execution_count": null,
      "outputs": []
    },
    {
      "cell_type": "code",
      "metadata": {
        "id": "Bm6N1fiH5j7Y"
      },
      "source": [
        "class DeepConvDTIDataset(Dataset):\n",
        "\n",
        "    MAX_TARGET_SEQUENCE_LENGTH = 2500\n",
        "\n",
        "    AMINO_ALPHABET = ['?', 'A', 'C', 'B', 'E',\n",
        "                      'D', 'G', 'L', 'O', 'U',\n",
        "                      'F', 'I', 'H', 'K', 'M',\n",
        "                      'N', 'Q', 'P', 'S', 'R', \n",
        "                      'W', 'V', 'Y', 'X', 'Z',\n",
        "                      'T']\n",
        "\n",
        "\n",
        "    aminochar2idx = dict(zip(AMINO_ALPHABET, range(len(AMINO_ALPHABET))))\n",
        "\n",
        "    def sequence2idx(sequence, index):\n",
        "        return [index[sequence_character] for sequence_character in sequence]\n",
        "\n",
        "    target2idx = partial(sequence2idx, index=aminochar2idx)\n",
        "    \n",
        "\n",
        "    def __init__(self, sequences, smiles, affinities, mode=\"train\"):\n",
        "      \n",
        "        self.sequences = sequences\n",
        "        self.smiles = smiles\n",
        "        self.affinities = affinities\n",
        "        self.mode = mode\n",
        "\n",
        "    def pad_sequence(self, sequence, max_length, index_fn):\n",
        "        \n",
        "        if len(sequence) < max_length:\n",
        "          sequence = F.pad(torch.LongTensor(index_fn(sequence)), pad=(0, max_length - len(sequence)))\n",
        "\n",
        "        return sequence[:max_length]\n",
        "\n",
        "    def __getitem__(self, idx):\n",
        "        \n",
        "        sequence = self.pad_sequence(self.sequences[idx], self.MAX_TARGET_SEQUENCE_LENGTH, self.target2idx)\n",
        "        smile = np.array(Chem.GetMorganFingerprintAsBitVect(Chem.MolFromSmiles(smiles), radius=2, nBits=2048))\n",
        "\n",
        "        if self.mode == \"train\":\n",
        "            return torch.FloatTensor(smile), sequence, self.affinities[idx]\n",
        "\n",
        "        return torch.FloatTensor(smile), sequence#torch.from_numpy(smile)\n",
        "    \n",
        "    def __len__(self):\n",
        "        return len(self.affinities)"
      ],
      "execution_count": null,
      "outputs": []
    },
    {
      "cell_type": "code",
      "metadata": {
        "id": "6No0Udiw6ThF"
      },
      "source": [
        "AMINO_ALPHABET = ['?', 'A', 'C', 'B', 'E',\n",
        "                      'D', 'G', 'L', 'O', 'U',\n",
        "                      'F', 'I', 'H', 'K', 'M',\n",
        "                      'N', 'Q', 'P', 'S', 'R', \n",
        "                      'W', 'V', 'Y', 'X', 'Z',\n",
        "                      'T']"
      ],
      "execution_count": null,
      "outputs": []
    },
    {
      "cell_type": "code",
      "metadata": {
        "id": "e2TVfXAR6XBD"
      },
      "source": [
        "aminochar2idx = dict(zip(AMINO_ALPHABET, range(len(AMINO_ALPHABET))))\n",
        "aminochar2idx"
      ],
      "execution_count": null,
      "outputs": []
    },
    {
      "cell_type": "code",
      "metadata": {
        "id": "EeX0PwXh6jTN"
      },
      "source": [
        "def sequence2idx(sequence, index):\n",
        "        return [index[sequence_character] for sequence_character in sequence]"
      ],
      "execution_count": null,
      "outputs": []
    },
    {
      "cell_type": "code",
      "metadata": {
        "colab": {
          "base_uri": "https://localhost:8080/"
        },
        "id": "R8r72UuK6rUn",
        "outputId": "92de87ff-ccb6-4a55-99f3-a3ea61892d34"
      },
      "source": [
        "target2idx = partial(sequence2idx, index=aminochar2idx)\n",
        "target2idx"
      ],
      "execution_count": null,
      "outputs": [
        {
          "output_type": "execute_result",
          "data": {
            "text/plain": [
              "functools.partial(<function sequence2idx at 0x7f0bc48c31e0>, index={'?': 0, 'A': 1, 'C': 2, 'B': 3, 'E': 4, 'D': 5, 'G': 6, 'L': 7, 'O': 8, 'U': 9, 'F': 10, 'I': 11, 'H': 12, 'K': 13, 'M': 14, 'N': 15, 'Q': 16, 'P': 17, 'S': 18, 'R': 19, 'W': 20, 'V': 21, 'Y': 22, 'X': 23, 'Z': 24, 'T': 25})"
            ]
          },
          "metadata": {
            "tags": []
          },
          "execution_count": 9
        }
      ]
    },
    {
      "cell_type": "code",
      "metadata": {
        "id": "01JQ_c9V7gKN"
      },
      "source": [
        "seq_dict = DeepConvDTIDataset.AMINO_ALPHABET\n",
        "seq_dict"
      ],
      "execution_count": null,
      "outputs": []
    },
    {
      "cell_type": "code",
      "metadata": {
        "id": "KfzAVJ6Z71po"
      },
      "source": [
        "abc = ['A',\n",
        "       'I',\n",
        "       'L',\n",
        "       'V',\n",
        "       'F',\n",
        "       'W',\n",
        "       'Y',\n",
        "       'N',\n",
        "       'C',\n",
        "       'Q',\n",
        "       'M',\n",
        "       'S',\n",
        "       'T']"
      ],
      "execution_count": null,
      "outputs": []
    },
    {
      "cell_type": "code",
      "metadata": {
        "id": "w4bK0B7D7mFi"
      },
      "source": [
        "ds = DeepConvDTIDataset([\"\".join(seq_dict), \"\".join(abc)], \n",
        "                        [\"C=CC(=O)NC1=C(C=C2C(=C1)C(=NC=N2)NC3=CC(=C(C=C3)F)Cl)OCCCN4CCOCC4\", \"C=CC(=O)NC1=C(C=C2C(=C1)\"], \n",
        "                        [30, 45])"
      ],
      "execution_count": null,
      "outputs": []
    },
    {
      "cell_type": "code",
      "metadata": {
        "colab": {
          "base_uri": "https://localhost:8080/",
          "height": 131
        },
        "id": "_xkKy0Oj74IY",
        "outputId": "7712ec96-bffc-4206-bef3-69838e681e04"
      },
      "source": [
        "\"\".join(seq_dict), \"\".join(abc)], \n",
        "                        [\"C=CC(=O)NC1=C(C=C2C(=C1)C(=NC=N2)NC3=CC(=C(C=C3)F)Cl)OCCCN4CCOCC4\", \"C=CC(=O)NC1=C(C=C2C(=C1)\"], \n",
        "                        [30, 45]"
      ],
      "execution_count": null,
      "outputs": [
        {
          "output_type": "error",
          "ename": "SyntaxError",
          "evalue": "ignored",
          "traceback": [
            "\u001b[0;36m  File \u001b[0;32m\"<ipython-input-17-2d22cde60e37>\"\u001b[0;36m, line \u001b[0;32m1\u001b[0m\n\u001b[0;31m    \"\".join(seq_dict), \"\".join(abc)],\u001b[0m\n\u001b[0m                                   ^\u001b[0m\n\u001b[0;31mSyntaxError\u001b[0m\u001b[0;31m:\u001b[0m invalid syntax\n"
          ]
        }
      ]
    },
    {
      "cell_type": "code",
      "metadata": {
        "id": "eImwnwj_77kQ",
        "colab": {
          "base_uri": "https://localhost:8080/",
          "height": 604
        },
        "outputId": "c6cc2c3a-3aa0-46df-b88e-ab972e857f41"
      },
      "source": [
        "!pip install functions\n",
        "import functions as f\n"
      ],
      "execution_count": null,
      "outputs": [
        {
          "output_type": "stream",
          "text": [
            "Collecting functions\n",
            "  Downloading https://files.pythonhosted.org/packages/88/6f/7f35add5d405c189d9b9646d298bd50d5db6efdca08af77320b4b0626499/functions-0.7.0.tar.gz\n",
            "Building wheels for collected packages: functions\n",
            "  Building wheel for functions (setup.py) ... \u001b[?25l\u001b[?25hdone\n",
            "  Created wheel for functions: filename=functions-0.7.0-cp36-none-any.whl size=3064 sha256=7dd1bae36e3469801d63246ea9d00a54e9c2692c47941aec36df291ee8da6e45\n",
            "  Stored in directory: /root/.cache/pip/wheels/f1/2e/9b/7907d32e006eaf4954ad1a976bff08867851394b26719a6d5f\n",
            "Successfully built functions\n",
            "Installing collected packages: functions\n",
            "Successfully installed functions-0.7.0\n"
          ],
          "name": "stdout"
        },
        {
          "output_type": "error",
          "ename": "SyntaxError",
          "evalue": "ignored",
          "traceback": [
            "\u001b[0;36m  File \u001b[0;32m\"/usr/local/lib/python3.6/dist-packages/functions.py\"\u001b[0;36m, line \u001b[0;32m68\u001b[0m\n\u001b[0;31m    nodes = tuple(map(lambda (k, v): process_node(inner, k, v),\u001b[0m\n\u001b[0m                             ^\u001b[0m\n\u001b[0;31mSyntaxError\u001b[0m\u001b[0;31m:\u001b[0m invalid syntax\n"
          ]
        }
      ]
    },
    {
      "cell_type": "code",
      "metadata": {
        "id": "TAJzA9Q79qRH"
      },
      "source": [
        ""
      ],
      "execution_count": null,
      "outputs": []
    }
  ]
}